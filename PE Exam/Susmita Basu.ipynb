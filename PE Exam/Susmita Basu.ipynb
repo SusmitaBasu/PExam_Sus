{
 "cells": [
  {
   "cell_type": "markdown",
   "id": "7fff1d26",
   "metadata": {},
   "source": [
    "Answer 1"
   ]
  },
  {
   "cell_type": "code",
   "execution_count": 107,
   "id": "a46db59c",
   "metadata": {},
   "outputs": [
    {
     "name": "stdout",
     "output_type": "stream",
     "text": [
      "2002,2009,2016,2023,2037,2044,2051,2058,2072,2079,2086,2093,2107,2114,2121,2128,2142,2149,2156,2163,2177,2184,2191,2198,2212,2219,2226,2233,2247,2254,2261,2268,2282,2289,2296,2303,2317,2324,2331,2338,2352,2359,2366,2373,2387,2394,2401,2408,2422,2429,2436,2443,2457,2464,2471,2478,2492,2499,2506,2513,2527,2534,2541,2548,2562,2569,2576,2583,2597,2604,2611,2618,2632,2639,2646,2653,2667,2674,2681,2688,2702,2709,2716,2723,2737,2744,2751,2758,2772,2779,2786,2793,2807,2814,2821,2828,2842,2849,2856,2863,2877,2884,2891,2898,2912,2919,2926,2933,2947,2954,2961,2968,2982,2989,2996,3003,3017,3024,3031,3038,3052,3059,3066,3073,3087,3094,3101,3108,3122,3129,3136,3143,3157,3164,3171,3178,3192,3199\n"
     ]
    }
   ],
   "source": [
    "s=''\n",
    "for i in range(2000,3201):\n",
    "    if (i%7==0) and (i%5!=0):\n",
    "        s=s+str(i)+','\n",
    "print(s[:-1])"
   ]
  },
  {
   "cell_type": "markdown",
   "id": "4715ceb3",
   "metadata": {},
   "source": [
    "Answer 2"
   ]
  },
  {
   "cell_type": "code",
   "execution_count": 101,
   "id": "103e2021",
   "metadata": {},
   "outputs": [
    {
     "name": "stdout",
     "output_type": "stream",
     "text": [
      "5\n",
      "120,"
     ]
    }
   ],
   "source": [
    "def fact(n):\n",
    "    if n==0 or n==1:\n",
    "        return 1\n",
    "    else:\n",
    "        return n*fact(n-1)\n",
    "n=int(input())\n",
    "print(fact(n),end=',')"
   ]
  },
  {
   "cell_type": "markdown",
   "id": "1f481c51",
   "metadata": {},
   "source": [
    "Answer 3"
   ]
  },
  {
   "cell_type": "code",
   "execution_count": null,
   "id": "573f24ce",
   "metadata": {},
   "outputs": [],
   "source": [
    "n=int(input())\n",
    "d={}\n",
    "for i in range(1,n+1):\n",
    "    d[i]=i*i\n",
    "print(d)"
   ]
  },
  {
   "cell_type": "markdown",
   "id": "9e186df0",
   "metadata": {},
   "source": [
    "Answer 4"
   ]
  },
  {
   "cell_type": "code",
   "execution_count": 4,
   "id": "be5de9a3",
   "metadata": {},
   "outputs": [
    {
     "name": "stdout",
     "output_type": "stream",
     "text": [
      "34,67,55,33,12,98\n",
      "['34', '67', '55', '33', '12', '98'] ('34', '67', '55', '33', '12', '98')\n"
     ]
    }
   ],
   "source": [
    "l=input().strip().split(',')\n",
    "t=tuple(l)\n",
    "print(l,t)"
   ]
  },
  {
   "cell_type": "markdown",
   "id": "7ae70f28",
   "metadata": {},
   "source": [
    "Answer 5"
   ]
  },
  {
   "cell_type": "code",
   "execution_count": 6,
   "id": "dde2b481",
   "metadata": {},
   "outputs": [
    {
     "name": "stdout",
     "output_type": "stream",
     "text": [
      "This is Susmita\n"
     ]
    }
   ],
   "source": [
    "class ShowString:\n",
    "    def __init__(self):\n",
    "        self.s=None\n",
    "    def getString(self,s):\n",
    "        self.s=s\n",
    "    def printString(self):\n",
    "        print(self.s)\n",
    "obj=ShowString()\n",
    "obj.getString(\"This is Susmita\")\n",
    "obj.printString()"
   ]
  },
  {
   "cell_type": "markdown",
   "id": "fb51a44e",
   "metadata": {},
   "source": [
    "Answer 6"
   ]
  },
  {
   "cell_type": "code",
   "execution_count": 9,
   "id": "6c2a7625",
   "metadata": {},
   "outputs": [
    {
     "name": "stdout",
     "output_type": "stream",
     "text": [
      "100,150,180\n",
      "18,22,24\n"
     ]
    }
   ],
   "source": [
    "C=50\n",
    "H=30\n",
    "s=''\n",
    "D=list(map(int,input().strip().split(',')))\n",
    "for i in D:\n",
    "    Q=int(((2*C*i)/H)**0.5)\n",
    "    s=s+str(Q)+','\n",
    "print(s[:-1])\n",
    "    \n",
    "    "
   ]
  },
  {
   "cell_type": "markdown",
   "id": "227f6baa",
   "metadata": {},
   "source": [
    "Answer 7"
   ]
  },
  {
   "cell_type": "code",
   "execution_count": 11,
   "id": "6cc5809c",
   "metadata": {},
   "outputs": [
    {
     "name": "stdout",
     "output_type": "stream",
     "text": [
      "3\n",
      "5\n",
      "[[0, 0, 0, 0, 0], [0, 1, 2, 3, 4], [0, 2, 4, 6, 8]]\n"
     ]
    }
   ],
   "source": [
    "X,Y=int(input()),int(input())\n",
    "arr=[[0 for i in range(Y)] for j in range(X)]\n",
    "for i in range(X):\n",
    "    for j in range(Y):\n",
    "        arr[i][j]=i*j\n",
    "print(arr)\n",
    "        "
   ]
  },
  {
   "cell_type": "markdown",
   "id": "3d006f73",
   "metadata": {},
   "source": [
    "Answer 8"
   ]
  },
  {
   "cell_type": "code",
   "execution_count": 12,
   "id": "ccb7e5f5",
   "metadata": {},
   "outputs": [
    {
     "name": "stdout",
     "output_type": "stream",
     "text": [
      "without,hello,bag,world\n",
      "bag,hello,without,world\n"
     ]
    }
   ],
   "source": [
    "l=input().strip().split(',')\n",
    "l.sort()\n",
    "print(','.join(l))"
   ]
  },
  {
   "cell_type": "markdown",
   "id": "6df52976",
   "metadata": {},
   "source": [
    "Answer 9"
   ]
  },
  {
   "cell_type": "code",
   "execution_count": 15,
   "id": "31e40ee7",
   "metadata": {},
   "outputs": [
    {
     "name": "stdout",
     "output_type": "stream",
     "text": [
      "Hello World\n",
      "Practice makes perfect\n",
      "\n",
      "HELLO WORLD\n",
      "PRACTICE MAKES PERFECT\n"
     ]
    }
   ],
   "source": [
    "lines=[]\n",
    "while(True):\n",
    "    l=input()\n",
    "    if l:\n",
    "        lines.append(l)\n",
    "    else:\n",
    "        break\n",
    "for i in lines:\n",
    "    print(i.upper())"
   ]
  },
  {
   "cell_type": "markdown",
   "id": "e0a25bed",
   "metadata": {},
   "source": [
    "Answer 10"
   ]
  },
  {
   "cell_type": "code",
   "execution_count": 16,
   "id": "cfa9abbb",
   "metadata": {},
   "outputs": [
    {
     "name": "stdout",
     "output_type": "stream",
     "text": [
      "hello world and practice makes perfect and hello world again\n",
      "again and hello makes perfect practice world\n"
     ]
    }
   ],
   "source": [
    "l=input().split()\n",
    "s=set(l)\n",
    "new_l=list(s)\n",
    "new_l.sort()\n",
    "print(' '.join(new_l))"
   ]
  },
  {
   "cell_type": "markdown",
   "id": "5a993714",
   "metadata": {},
   "source": [
    "Answer 11"
   ]
  },
  {
   "cell_type": "code",
   "execution_count": 20,
   "id": "b29aa0f7",
   "metadata": {},
   "outputs": [
    {
     "name": "stdout",
     "output_type": "stream",
     "text": [
      "0100,0011,1010,1001\n",
      "1010\n"
     ]
    }
   ],
   "source": [
    "l=input().split(',')\n",
    "s=''\n",
    "for i in l:\n",
    "    if int(i,2)%5==0:\n",
    "        s=s+i+','\n",
    "print(s[:-1])"
   ]
  },
  {
   "cell_type": "markdown",
   "id": "802cd7d7",
   "metadata": {},
   "source": [
    "Answer 12"
   ]
  },
  {
   "cell_type": "code",
   "execution_count": 25,
   "id": "70333dff",
   "metadata": {},
   "outputs": [
    {
     "name": "stdout",
     "output_type": "stream",
     "text": [
      "2000,2002,2004,2006,2008,2020,2022,2024,2026,2028,2040,2042,2044,2046,2048,2060,2062,2064,2066,2068,2080,2082,2084,2086,2088,2200,2202,2204,2206,2208,2220,2222,2224,2226,2228,2240,2242,2244,2246,2248,2260,2262,2264,2266,2268,2280,2282,2284,2286,2288,2400,2402,2404,2406,2408,2420,2422,2424,2426,2428,2440,2442,2444,2446,2448,2460,2462,2464,2466,2468,2480,2482,2484,2486,2488,2600,2602,2604,2606,2608,2620,2622,2624,2626,2628,2640,2642,2644,2646,2648,2660,2662,2664,2666,2668,2680,2682,2684,2686,2688,2800,2802,2804,2806,2808,2820,2822,2824,2826,2828,2840,2842,2844,2846,2848,2860,2862,2864,2866,2868,2880,2882,2884,2886,2888\n"
     ]
    }
   ],
   "source": [
    "s=''\n",
    "for i in range(1000,3001):\n",
    "    flag=0\n",
    "    for j in str(i):\n",
    "        if int(j)%2==1:\n",
    "            flag=1\n",
    "    if flag==0:\n",
    "        s=s+str(i)+','\n",
    "print(s[:-1])"
   ]
  },
  {
   "cell_type": "markdown",
   "id": "ad01f0b6",
   "metadata": {},
   "source": [
    "Answer 13"
   ]
  },
  {
   "cell_type": "code",
   "execution_count": 28,
   "id": "86a7304e",
   "metadata": {},
   "outputs": [
    {
     "name": "stdout",
     "output_type": "stream",
     "text": [
      "hello world! 123\n",
      "LETTERS 10\n",
      "DIGITS 3\n"
     ]
    }
   ],
   "source": [
    "s=input()\n",
    "l=0\n",
    "d=0\n",
    "for i in s:\n",
    "    if i.isalnum():\n",
    "        if i.isdigit():\n",
    "            d+=1\n",
    "        else:\n",
    "            l+=1\n",
    "print('LETTERS',l)\n",
    "print('DIGITS',d)"
   ]
  },
  {
   "cell_type": "markdown",
   "id": "bf8bc1c2",
   "metadata": {},
   "source": [
    "Answer 14"
   ]
  },
  {
   "cell_type": "code",
   "execution_count": 29,
   "id": "82ca75f5",
   "metadata": {},
   "outputs": [
    {
     "name": "stdout",
     "output_type": "stream",
     "text": [
      "Hello world!\n",
      "UPPER CASE 1\n",
      "LOWER CASE 9\n"
     ]
    }
   ],
   "source": [
    "s=input()\n",
    "u=0\n",
    "l=0\n",
    "for i in s:\n",
    "    if i.isalpha():\n",
    "        if i.isupper():\n",
    "            u+=1\n",
    "        else:\n",
    "            l+=1\n",
    "print('UPPER CASE',u)\n",
    "print('LOWER CASE',l)"
   ]
  },
  {
   "cell_type": "markdown",
   "id": "30c15330",
   "metadata": {},
   "source": [
    "Answer 15"
   ]
  },
  {
   "cell_type": "code",
   "execution_count": 30,
   "id": "6e6d6d15",
   "metadata": {},
   "outputs": [
    {
     "name": "stdout",
     "output_type": "stream",
     "text": [
      "9\n",
      "11106\n"
     ]
    }
   ],
   "source": [
    "a=input()\n",
    "v=int(a)+int(a+a)+int(a+a+a)+int(a+a+a+a)\n",
    "print(v)"
   ]
  },
  {
   "cell_type": "markdown",
   "id": "c4461dd5",
   "metadata": {},
   "source": [
    "Answer 16"
   ]
  },
  {
   "cell_type": "code",
   "execution_count": 33,
   "id": "3510b2da",
   "metadata": {},
   "outputs": [
    {
     "name": "stdout",
     "output_type": "stream",
     "text": [
      "1,2,3,4,5,6,7,8,9\n",
      "1,9,25,49,81\n"
     ]
    }
   ],
   "source": [
    "l=list(map(int,input().split(',')))\n",
    "ans=[str(i*i) for i in l if i%2==1]\n",
    "print(','.join(ans))"
   ]
  },
  {
   "cell_type": "markdown",
   "id": "abd0a601",
   "metadata": {},
   "source": [
    "Answer 17"
   ]
  },
  {
   "cell_type": "code",
   "execution_count": 34,
   "id": "4b5310aa",
   "metadata": {},
   "outputs": [
    {
     "name": "stdout",
     "output_type": "stream",
     "text": [
      "D 300\n",
      "D 300\n",
      "W 200\n",
      "D 100\n",
      "\n",
      "500\n"
     ]
    }
   ],
   "source": [
    "l=[]\n",
    "while(True):\n",
    "    s=input()\n",
    "    if s:\n",
    "        l.append(s)\n",
    "    else:\n",
    "        break\n",
    "val=0\n",
    "for i in l:\n",
    "    n=i.split()\n",
    "    if n[0]=='D':\n",
    "        val+=int(n[1])\n",
    "    else:\n",
    "        val-=int(n[1])\n",
    "print(val)"
   ]
  },
  {
   "cell_type": "code",
   "execution_count": null,
   "id": "cce46ded",
   "metadata": {},
   "outputs": [],
   "source": [
    "Answer 18"
   ]
  },
  {
   "cell_type": "code",
   "execution_count": 83,
   "id": "f29b45da",
   "metadata": {},
   "outputs": [
    {
     "name": "stdout",
     "output_type": "stream",
     "text": [
      "ABd1234@1,a F1#,2w3E*,2We3345\n",
      "ABd1234@1\n"
     ]
    }
   ],
   "source": [
    "l=input().split(',')\n",
    "import re\n",
    "def checkpsswrd(password):\n",
    "    flag = 0\n",
    "    while True:  \n",
    "        if (len(password)<8):\n",
    "            flag = -1\n",
    "            break\n",
    "        elif not re.search(\"[a-z]\", password):\n",
    "            flag = -1\n",
    "            break\n",
    "        elif not re.search(\"[A-Z]\", password):\n",
    "            flag = -1\n",
    "            break\n",
    "        elif not re.search(\"[0-9]\", password):\n",
    "            flag = -1\n",
    "            break\n",
    "        elif not re.search(\"[_@$]\", password):\n",
    "            flag = -1\n",
    "            break\n",
    "        elif re.search(\"\\s\", password):\n",
    "            flag = -1\n",
    "            break\n",
    "        else:\n",
    "            flag = 0\n",
    "            return True\n",
    "            break\n",
    "  \n",
    "    if flag ==-1:\n",
    "        return False\n",
    "for i in l:\n",
    "    if checkpsswrd(i):\n",
    "        print(i)"
   ]
  },
  {
   "cell_type": "code",
   "execution_count": null,
   "id": "6331adf4",
   "metadata": {},
   "outputs": [],
   "source": [
    "Answer 19"
   ]
  },
  {
   "cell_type": "code",
   "execution_count": 84,
   "id": "97dcbbca",
   "metadata": {},
   "outputs": [
    {
     "name": "stdout",
     "output_type": "stream",
     "text": [
      "Tom,19,80\n",
      "John,20,90\n",
      "Jony,17,91  \n",
      "Jony,17,93\n",
      "Json,21,85\n",
      "\n",
      "[('John', 20, 90), ('Jony', 17, 91), ('Jony', 17, 93), ('Json', 21, 85), ('Tom', 19, 80)]\n"
     ]
    }
   ],
   "source": [
    "lst=[]\n",
    "while(True):\n",
    "    k=input()\n",
    "    if k:\n",
    "        k=k.split(',')\n",
    "        element=(k[0],int(k[1]),int(k[2]))\n",
    "        lst.append(element)\n",
    "    else:\n",
    "        break\n",
    "s=sorted(lst,key=lambda x:(x[0],x[1],x[2]))\n",
    "print(s)"
   ]
  },
  {
   "cell_type": "markdown",
   "id": "b27840c8",
   "metadata": {},
   "source": [
    "Answer 20"
   ]
  },
  {
   "cell_type": "code",
   "execution_count": 79,
   "id": "61207aa3",
   "metadata": {},
   "outputs": [
    {
     "name": "stdout",
     "output_type": "stream",
     "text": [
      "0\n",
      "7\n"
     ]
    }
   ],
   "source": [
    "class div7:\n",
    "    def __init__(self,n):\n",
    "        self.n=n\n",
    "        self.val=0\n",
    "    def div_by_7(self):\n",
    "        while(self.val<=n):\n",
    "            yield self.val\n",
    "            self.val+=7\n",
    "obj=div7(70)\n",
    "for i in (obj.div_by_7()):\n",
    "    print(i)\n"
   ]
  },
  {
   "cell_type": "markdown",
   "id": "01a1bc91",
   "metadata": {},
   "source": [
    "Answer 21"
   ]
  },
  {
   "cell_type": "code",
   "execution_count": 53,
   "id": "9957c05c",
   "metadata": {},
   "outputs": [
    {
     "name": "stdout",
     "output_type": "stream",
     "text": [
      "UP 5\n",
      "DOWN 3\n",
      "LEFT 3\n",
      "RIGHT 2\n",
      "\n",
      "2\n"
     ]
    }
   ],
   "source": [
    "x,y=0,0\n",
    "while(True):\n",
    "    inp=input()\n",
    "    if inp:\n",
    "        s=inp.split()\n",
    "        if s[0]=='UP':\n",
    "            x+=int(s[1])\n",
    "        elif s[0]=='DOWN':\n",
    "            x-=int(s[1])\n",
    "        elif s[0]=='LEFT':\n",
    "            y-=int(s[1])\n",
    "        elif s[0]=='RIGHT':\n",
    "            y+=int(s[1])\n",
    "        else:\n",
    "            print('not valid')\n",
    "    else:\n",
    "        break\n",
    "d=int((x**2+y**2)**0.5)\n",
    "print(d)"
   ]
  },
  {
   "cell_type": "markdown",
   "id": "0fb45ed7",
   "metadata": {},
   "source": [
    "Answer 22"
   ]
  },
  {
   "cell_type": "code",
   "execution_count": 57,
   "id": "6dfc9afa",
   "metadata": {},
   "outputs": [
    {
     "name": "stdout",
     "output_type": "stream",
     "text": [
      "New to Python or choosing between Python 2 and Python 3? Read Python 2 or Python 3.\n",
      "2 : 2\n",
      "3. : 1\n",
      "3? : 1\n",
      "New : 1\n",
      "Python : 5\n",
      "Read : 1\n",
      "and : 1\n",
      "between : 1\n",
      "choosing : 1\n",
      "or : 2\n",
      "to : 1\n"
     ]
    }
   ],
   "source": [
    "d={}\n",
    "s=input().split()\n",
    "for i in s:\n",
    "    if i not in d:\n",
    "        d[i]=0\n",
    "    d[i]+=1\n",
    "new=list(d.keys())\n",
    "new.sort()\n",
    "for i in new:\n",
    "    print(i,':',d[i])"
   ]
  },
  {
   "cell_type": "markdown",
   "id": "d3709d43",
   "metadata": {},
   "source": [
    "Answer 23"
   ]
  },
  {
   "cell_type": "code",
   "execution_count": 58,
   "id": "11607a77",
   "metadata": {},
   "outputs": [
    {
     "name": "stdout",
     "output_type": "stream",
     "text": [
      "45.7\n",
      "2088.4900000000002\n"
     ]
    }
   ],
   "source": [
    "n=float(input())\n",
    "def square(n):\n",
    "    return n*n\n",
    "print(square(n))"
   ]
  },
  {
   "cell_type": "markdown",
   "id": "bd9ecb11",
   "metadata": {},
   "source": [
    "Answer 24"
   ]
  },
  {
   "cell_type": "code",
   "execution_count": null,
   "id": "c774e2d2",
   "metadata": {},
   "outputs": [],
   "source": []
  },
  {
   "cell_type": "markdown",
   "id": "d9868754",
   "metadata": {},
   "source": [
    "Answer 25"
   ]
  },
  {
   "cell_type": "code",
   "execution_count": 75,
   "id": "1bb093c8",
   "metadata": {},
   "outputs": [
    {
     "name": "stdout",
     "output_type": "stream",
     "text": [
      "7\n",
      "9\n"
     ]
    }
   ],
   "source": [
    "class something:\n",
    "    param=7\n",
    "    def __init__(self):\n",
    "        self.param=9\n",
    "obj=something()\n",
    "print(something.param)\n",
    "print(obj.param)"
   ]
  },
  {
   "cell_type": "markdown",
   "id": "cd64e6eb",
   "metadata": {},
   "source": [
    "Answer 26"
   ]
  },
  {
   "cell_type": "code",
   "execution_count": 68,
   "id": "50ec6d4e",
   "metadata": {},
   "outputs": [
    {
     "name": "stdout",
     "output_type": "stream",
     "text": [
      "4\n",
      "8\n",
      "12\n"
     ]
    }
   ],
   "source": [
    "a=int(input())\n",
    "b=int(input())\n",
    "def addition(a,b):\n",
    "    return a+b\n",
    "print(addition(a,b))"
   ]
  },
  {
   "cell_type": "markdown",
   "id": "9c473071",
   "metadata": {},
   "source": [
    "Answer 27"
   ]
  },
  {
   "cell_type": "code",
   "execution_count": 67,
   "id": "5e8ff789",
   "metadata": {},
   "outputs": [
    {
     "name": "stdout",
     "output_type": "stream",
     "text": [
      "7\n",
      "7\n"
     ]
    }
   ],
   "source": [
    "def cnvrt(n):\n",
    "    print(str(n))\n",
    "n=int(input())\n",
    "cnvrt(n)"
   ]
  },
  {
   "cell_type": "markdown",
   "id": "3c285d4c",
   "metadata": {},
   "source": [
    "Answer 28"
   ]
  },
  {
   "cell_type": "code",
   "execution_count": 66,
   "id": "9b7349e0",
   "metadata": {},
   "outputs": [
    {
     "name": "stdout",
     "output_type": "stream",
     "text": [
      "5\n",
      "9\n",
      "14\n"
     ]
    }
   ],
   "source": [
    "def sum():\n",
    "    a=input()\n",
    "    b=input()\n",
    "    c=int(a)+int(b)\n",
    "    print(c)\n",
    "sum()"
   ]
  },
  {
   "cell_type": "markdown",
   "id": "b45537df",
   "metadata": {},
   "source": [
    "Answer 29"
   ]
  },
  {
   "cell_type": "code",
   "execution_count": 65,
   "id": "7fb18aa2",
   "metadata": {},
   "outputs": [
    {
     "name": "stdout",
     "output_type": "stream",
     "text": [
      "my name is \n",
      "sus\n",
      "my name is sus\n"
     ]
    }
   ],
   "source": [
    "def strconcat():\n",
    "    s1=input()\n",
    "    s2=input()\n",
    "    print(s1+s2)\n",
    "strconcat()"
   ]
  },
  {
   "cell_type": "markdown",
   "id": "579d8e7e",
   "metadata": {},
   "source": [
    "Answer 30"
   ]
  },
  {
   "cell_type": "code",
   "execution_count": 25,
   "id": "36719d04",
   "metadata": {},
   "outputs": [
    {
     "name": "stdout",
     "output_type": "stream",
     "text": [
      "hbcuy jndchbsn ndbcshbc\n",
      "hjbcjhbdcjnc\n",
      "hbcuy jndchbsn ndbcshbc\n"
     ]
    }
   ],
   "source": [
    "s1=input()\n",
    "s2=input()\n",
    "n1=len(s1)\n",
    "n2=len(s2)\n",
    "if n1==n2:\n",
    "    print(s1+'\\n'+s2)\n",
    "elif n1>n2:\n",
    "    print(s1)\n",
    "else:\n",
    "    print(s2)"
   ]
  },
  {
   "cell_type": "markdown",
   "id": "be090f8d",
   "metadata": {},
   "source": [
    "Answer 31"
   ]
  },
  {
   "cell_type": "code",
   "execution_count": 26,
   "id": "e08dccab",
   "metadata": {},
   "outputs": [
    {
     "name": "stdout",
     "output_type": "stream",
     "text": [
      "{1: 1, 2: 4, 3: 9, 4: 16, 5: 25, 6: 36, 7: 49, 8: 64, 9: 81, 10: 100, 11: 121, 12: 144, 13: 169, 14: 196, 15: 225, 16: 256, 17: 289, 18: 324, 19: 361, 20: 400}\n"
     ]
    }
   ],
   "source": [
    "def print_dict():\n",
    "    d={}\n",
    "    for i in range(1,21):\n",
    "        d[i]=i*i\n",
    "    print(d)\n",
    "print_dict()"
   ]
  },
  {
   "cell_type": "markdown",
   "id": "9941bfd3",
   "metadata": {},
   "source": [
    "Answer 32"
   ]
  },
  {
   "cell_type": "code",
   "execution_count": 31,
   "id": "57e64d54",
   "metadata": {},
   "outputs": [
    {
     "name": "stdout",
     "output_type": "stream",
     "text": [
      "dict_keys([1, 2, 3, 4, 5, 6, 7, 8, 9, 10, 11, 12, 13, 14, 15, 16, 17, 18, 19, 20])\n"
     ]
    }
   ],
   "source": [
    "def print_dict_keys():\n",
    "    d={}\n",
    "    for i in range(1,21):\n",
    "        d[i]=i*i\n",
    "    print(d.keys())\n",
    "print_dict_keys()"
   ]
  },
  {
   "cell_type": "markdown",
   "id": "1ab6241d",
   "metadata": {},
   "source": [
    "Answer 33"
   ]
  },
  {
   "cell_type": "code",
   "execution_count": 29,
   "id": "067557f7",
   "metadata": {},
   "outputs": [
    {
     "name": "stdout",
     "output_type": "stream",
     "text": [
      "[1, 4, 9, 16, 25, 36, 49, 64, 81, 100, 121, 144, 169, 196, 225, 256, 289, 324, 361, 400]\n"
     ]
    }
   ],
   "source": [
    "def print_list():\n",
    "    l=[i**2 for i in range(1,21)]\n",
    "    print(l)\n",
    "print_list()"
   ]
  },
  {
   "cell_type": "markdown",
   "id": "1fd38287",
   "metadata": {},
   "source": [
    "Answer 34"
   ]
  },
  {
   "cell_type": "code",
   "execution_count": 32,
   "id": "c4f72279",
   "metadata": {},
   "outputs": [
    {
     "name": "stdout",
     "output_type": "stream",
     "text": [
      "[1, 4, 9, 16, 25]\n"
     ]
    }
   ],
   "source": [
    "def print_list_first5():\n",
    "    l=[i**2 for i in range(1,21)]\n",
    "    print(l[:5])\n",
    "print_list_first5()"
   ]
  },
  {
   "cell_type": "markdown",
   "id": "3ecf032c",
   "metadata": {},
   "source": [
    "Answer 35"
   ]
  },
  {
   "cell_type": "code",
   "execution_count": 34,
   "id": "d534a767",
   "metadata": {},
   "outputs": [
    {
     "name": "stdout",
     "output_type": "stream",
     "text": [
      "[256, 289, 324, 361, 400]\n"
     ]
    }
   ],
   "source": [
    "def print_list_last5():\n",
    "    l=[i**2 for i in range(1,21)]\n",
    "    print(l[-5:])\n",
    "print_list_last5()"
   ]
  },
  {
   "cell_type": "markdown",
   "id": "20868988",
   "metadata": {},
   "source": [
    "Answer 36"
   ]
  },
  {
   "cell_type": "code",
   "execution_count": 35,
   "id": "f45120fc",
   "metadata": {},
   "outputs": [
    {
     "name": "stdout",
     "output_type": "stream",
     "text": [
      "[36, 49, 64, 81, 100, 121, 144, 169, 196, 225, 256, 289, 324, 361, 400]\n"
     ]
    }
   ],
   "source": [
    "def print_list_except1st5():\n",
    "    l=[i**2 for i in range(1,21)]\n",
    "    print(l[5:])\n",
    "print_list_except1st5()"
   ]
  },
  {
   "cell_type": "markdown",
   "id": "5a01fea1",
   "metadata": {},
   "source": [
    "Answer 37"
   ]
  },
  {
   "cell_type": "code",
   "execution_count": 37,
   "id": "9ab89eda",
   "metadata": {},
   "outputs": [
    {
     "name": "stdout",
     "output_type": "stream",
     "text": [
      "(1, 4, 9, 16, 25, 36, 49, 64, 81, 100, 121, 144, 169, 196, 225, 256, 289, 324, 361, 400)\n"
     ]
    }
   ],
   "source": [
    "def print_tuple():\n",
    "    t=tuple(i**2 for i in range(1,21))\n",
    "    print(t)\n",
    "print_tuple()"
   ]
  },
  {
   "cell_type": "markdown",
   "id": "7e5f9234",
   "metadata": {},
   "source": [
    "Answer 38"
   ]
  },
  {
   "cell_type": "code",
   "execution_count": 40,
   "id": "b43e45d8",
   "metadata": {},
   "outputs": [
    {
     "name": "stdout",
     "output_type": "stream",
     "text": [
      "(1, 2, 3, 4, 5)\n",
      "(6, 7, 8, 9, 10)\n"
     ]
    }
   ],
   "source": [
    "t=(1,2,3,4,5,6,7,8,9,10)\n",
    "print(t[:len(t)//2])\n",
    "print(t[len(t)//2:])"
   ]
  },
  {
   "cell_type": "markdown",
   "id": "f1c999fe",
   "metadata": {},
   "source": [
    "Answer 39"
   ]
  },
  {
   "cell_type": "code",
   "execution_count": 41,
   "id": "0f8f90ad",
   "metadata": {},
   "outputs": [
    {
     "name": "stdout",
     "output_type": "stream",
     "text": [
      "(2, 4, 6, 8, 10)\n"
     ]
    }
   ],
   "source": [
    "t=(1,2,3,4,5,6,7,8,9,10)\n",
    "ans=tuple(i for i in t if i%2==0)\n",
    "print(ans)"
   ]
  },
  {
   "cell_type": "markdown",
   "id": "1ebf4c32",
   "metadata": {},
   "source": [
    "Answer 40"
   ]
  },
  {
   "cell_type": "code",
   "execution_count": 1,
   "id": "3ae7dbfb",
   "metadata": {},
   "outputs": [
    {
     "name": "stdout",
     "output_type": "stream",
     "text": [
      "yes\n",
      "Yes\n"
     ]
    }
   ],
   "source": [
    "s=input()\n",
    "if s=='yes' or s=='YES' or s=='Yes':\n",
    "    print(\"Yes\")\n",
    "else:\n",
    "    print('No')"
   ]
  },
  {
   "cell_type": "markdown",
   "id": "42d5c719",
   "metadata": {},
   "source": [
    "Answer 41"
   ]
  },
  {
   "cell_type": "code",
   "execution_count": 80,
   "id": "feb6ea5f",
   "metadata": {},
   "outputs": [
    {
     "name": "stdout",
     "output_type": "stream",
     "text": [
      "[1, 4, 9, 16, 25, 36, 49, 64, 81, 100]\n"
     ]
    }
   ],
   "source": [
    "l=[1,2,3,4,5,6,7,8,9,10]\n",
    "l_new=list(map(lambda x:x*x,l))\n",
    "print(l_new)"
   ]
  },
  {
   "cell_type": "markdown",
   "id": "dabe5e8a",
   "metadata": {},
   "source": [
    "Answer 42"
   ]
  },
  {
   "cell_type": "code",
   "execution_count": 79,
   "id": "c51d32ff",
   "metadata": {},
   "outputs": [
    {
     "name": "stdout",
     "output_type": "stream",
     "text": [
      "[4, 16, 36, 64, 100]\n"
     ]
    }
   ],
   "source": [
    "l=[1,2,3,4,5,6,7,8,9,10]\n",
    "filtered=filter(lambda x:x%2==0,l)\n",
    "ans=list(map(lambda x:x*x,filtered))\n",
    "print(ans)"
   ]
  },
  {
   "cell_type": "markdown",
   "id": "f4242851",
   "metadata": {},
   "source": [
    "Answer 43"
   ]
  },
  {
   "cell_type": "code",
   "execution_count": 3,
   "id": "908f71f7",
   "metadata": {},
   "outputs": [
    {
     "name": "stdout",
     "output_type": "stream",
     "text": [
      "[2, 4, 6, 8, 10, 12, 14, 16, 18, 20]\n"
     ]
    }
   ],
   "source": [
    "l=[i for i in range(1,21)]\n",
    "filtered=filter(lambda x:x%2==0,l)\n",
    "ans=[i for i in filtered]\n",
    "print(ans)"
   ]
  },
  {
   "cell_type": "markdown",
   "id": "feadaca2",
   "metadata": {},
   "source": [
    "Answer 44"
   ]
  },
  {
   "cell_type": "code",
   "execution_count": 6,
   "id": "7bd5c730",
   "metadata": {},
   "outputs": [
    {
     "name": "stdout",
     "output_type": "stream",
     "text": [
      "[1, 4, 9, 16, 25, 36, 49, 64, 81, 100, 121, 144, 169, 196, 225, 256, 289, 324, 361, 400]\n"
     ]
    }
   ],
   "source": [
    "l=list(map(lambda x:x*x,range(1,21)))\n",
    "print(l)"
   ]
  },
  {
   "cell_type": "markdown",
   "id": "ef8ef663",
   "metadata": {},
   "source": [
    "Answer 45"
   ]
  },
  {
   "cell_type": "code",
   "execution_count": 11,
   "id": "e0df1b31",
   "metadata": {},
   "outputs": [
    {
     "name": "stdout",
     "output_type": "stream",
     "text": [
      "We are American\n"
     ]
    }
   ],
   "source": [
    "class American:\n",
    "    @staticmethod\n",
    "    def printNationality(s):\n",
    "        print('We are',s)\n",
    "American.printNationality('American')"
   ]
  },
  {
   "cell_type": "markdown",
   "id": "209fc28e",
   "metadata": {},
   "source": [
    "Answer 46"
   ]
  },
  {
   "cell_type": "code",
   "execution_count": 12,
   "id": "618852d6",
   "metadata": {},
   "outputs": [],
   "source": [
    "class American:\n",
    "    pass\n",
    "class NewYorker(American):\n",
    "    pass"
   ]
  },
  {
   "cell_type": "markdown",
   "id": "9cc2264d",
   "metadata": {},
   "source": [
    "Answer 47"
   ]
  },
  {
   "cell_type": "code",
   "execution_count": 14,
   "id": "1967cc6a",
   "metadata": {},
   "outputs": [
    {
     "name": "stdout",
     "output_type": "stream",
     "text": [
      "78.5\n"
     ]
    }
   ],
   "source": [
    "class Circle:\n",
    "    def __init__(self,r):\n",
    "        self.radius=r\n",
    "    def area(self):\n",
    "        area=3.14*self.radius*self.radius\n",
    "        return area\n",
    "C=Circle(5)\n",
    "print(C.area())"
   ]
  },
  {
   "cell_type": "markdown",
   "id": "77bb9a17",
   "metadata": {},
   "source": [
    "Answer 48"
   ]
  },
  {
   "cell_type": "code",
   "execution_count": 16,
   "id": "c03b4e76",
   "metadata": {},
   "outputs": [
    {
     "name": "stdout",
     "output_type": "stream",
     "text": [
      "15\n"
     ]
    }
   ],
   "source": [
    "class Rectangle:\n",
    "    def __init__(self,l,w):\n",
    "        self.length=l\n",
    "        self.width=w\n",
    "    def area(self):\n",
    "        area=self.length*self.width\n",
    "        return area\n",
    "R=Rectangle(5,3)\n",
    "print(R.area())"
   ]
  },
  {
   "cell_type": "markdown",
   "id": "05478b7a",
   "metadata": {},
   "source": [
    "Answer 49"
   ]
  },
  {
   "cell_type": "code",
   "execution_count": 17,
   "id": "fbb24ac2",
   "metadata": {},
   "outputs": [
    {
     "name": "stdout",
     "output_type": "stream",
     "text": [
      "25\n"
     ]
    }
   ],
   "source": [
    "class Shape:\n",
    "    def __init__(self):\n",
    "        pass\n",
    "    def area(self):\n",
    "        area=0\n",
    "        print(area)\n",
    "class Square(Shape):\n",
    "    def __init__(self,l):\n",
    "        self.length=l\n",
    "    def area(self):\n",
    "        area=self.length*self.length\n",
    "        print(area)\n",
    "S=Square(5)\n",
    "S.area()"
   ]
  },
  {
   "cell_type": "markdown",
   "id": "5e8c5e55",
   "metadata": {},
   "source": [
    "Answer 50"
   ]
  },
  {
   "cell_type": "code",
   "execution_count": 56,
   "id": "04215d41",
   "metadata": {},
   "outputs": [
    {
     "name": "stdout",
     "output_type": "stream",
     "text": [
      "Found an error : Something is wrong\n"
     ]
    }
   ],
   "source": [
    "try:\n",
    "    raise RuntimeError('Something is wrong')\n",
    "except RuntimeError as e:\n",
    "    print('Found an error :',e)"
   ]
  },
  {
   "cell_type": "markdown",
   "id": "fef12cde",
   "metadata": {},
   "source": [
    "Answer 51"
   ]
  },
  {
   "cell_type": "code",
   "execution_count": 58,
   "id": "78bc7ee0",
   "metadata": {},
   "outputs": [
    {
     "name": "stdout",
     "output_type": "stream",
     "text": [
      "5\n",
      "0\n",
      "Can't divide a number by 0\n"
     ]
    }
   ],
   "source": [
    "try:\n",
    "    a=int(input())\n",
    "    b=int(input())\n",
    "    c=a/b\n",
    "    print(c)\n",
    "except ZeroDivisionError:\n",
    "    print('Can\\'t divide a number by 0')"
   ]
  },
  {
   "cell_type": "markdown",
   "id": "945b89da",
   "metadata": {},
   "source": [
    "Answer 52"
   ]
  },
  {
   "cell_type": "code",
   "execution_count": 61,
   "id": "78f610c4",
   "metadata": {},
   "outputs": [
    {
     "name": "stdout",
     "output_type": "stream",
     "text": [
      "Something unknown has happened : found a problem\n"
     ]
    }
   ],
   "source": [
    "class NewError(Exception):\n",
    "    def __init__(self,msg):\n",
    "        self.msg=msg\n",
    "    def whats_wrong(self):\n",
    "        print('Something unknown has happened :',self.msg)\n",
    "try:\n",
    "    raise NewError(\"found a problem\")\n",
    "except NewError as e:\n",
    "    e.whats_wrong()"
   ]
  },
  {
   "cell_type": "markdown",
   "id": "ec753f0d",
   "metadata": {},
   "source": [
    "Answer 53"
   ]
  },
  {
   "cell_type": "code",
   "execution_count": 70,
   "id": "ec922bf9",
   "metadata": {},
   "outputs": [
    {
     "name": "stdout",
     "output_type": "stream",
     "text": [
      "john@google.com\n",
      "john\n"
     ]
    }
   ],
   "source": [
    "s=input()\n",
    "import re\n",
    "pattern=r'(\\w+)+@'\n",
    "l=re.findall(pattern,s)\n",
    "print(l[0])"
   ]
  },
  {
   "cell_type": "markdown",
   "id": "e5093262",
   "metadata": {},
   "source": [
    "Answer 54"
   ]
  },
  {
   "cell_type": "code",
   "execution_count": 72,
   "id": "f5e3fbe9",
   "metadata": {},
   "outputs": [
    {
     "name": "stdout",
     "output_type": "stream",
     "text": [
      "john@google.com\n",
      "google\n"
     ]
    }
   ],
   "source": [
    "s=input()\n",
    "import re\n",
    "pattern=r'@(\\w+).'\n",
    "l=re.findall(pattern,s)\n",
    "print(l[0])"
   ]
  },
  {
   "cell_type": "markdown",
   "id": "dc4bf0bb",
   "metadata": {},
   "source": [
    "Answer 55"
   ]
  },
  {
   "cell_type": "code",
   "execution_count": 73,
   "id": "b6387696",
   "metadata": {},
   "outputs": [
    {
     "name": "stdout",
     "output_type": "stream",
     "text": [
      "2 cats and 3 dogs.\n",
      "['2', '3']\n"
     ]
    }
   ],
   "source": [
    "l=input().split()\n",
    "ans=[]\n",
    "for i in l:\n",
    "    if i.isnumeric():\n",
    "        ans.append(i)\n",
    "print(ans)"
   ]
  },
  {
   "cell_type": "markdown",
   "id": "a4ecc468",
   "metadata": {},
   "source": [
    "Answer 59"
   ]
  },
  {
   "cell_type": "code",
   "execution_count": 75,
   "id": "0bb6e48e",
   "metadata": {},
   "outputs": [
    {
     "name": "stdout",
     "output_type": "stream",
     "text": [
      "5\n",
      "3.55\n"
     ]
    }
   ],
   "source": [
    "n=int(input())\n",
    "total=0\n",
    "for i in range(1,n+1):\n",
    "    total+=(i/(i+1))\n",
    "print(round(total,2))"
   ]
  },
  {
   "cell_type": "markdown",
   "id": "34dac631",
   "metadata": {},
   "source": [
    "Answer 60"
   ]
  },
  {
   "cell_type": "code",
   "execution_count": 76,
   "id": "193feca8",
   "metadata": {},
   "outputs": [
    {
     "name": "stdout",
     "output_type": "stream",
     "text": [
      "5\n",
      "500\n"
     ]
    }
   ],
   "source": [
    "n=int(input())\n",
    "def calculate(n):\n",
    "    if n==0:\n",
    "        return 0\n",
    "    else:\n",
    "        return calculate(n-1)+100\n",
    "print(calculate(n))"
   ]
  },
  {
   "cell_type": "markdown",
   "id": "fad0bbed",
   "metadata": {},
   "source": [
    "Answer 61"
   ]
  },
  {
   "cell_type": "code",
   "execution_count": 18,
   "id": "6ae8a757",
   "metadata": {},
   "outputs": [
    {
     "name": "stdout",
     "output_type": "stream",
     "text": [
      "7\n",
      "13\n"
     ]
    }
   ],
   "source": [
    "n=int(input())\n",
    "def fibo(n):\n",
    "    if n==0 or n==1:\n",
    "        return n\n",
    "    else:\n",
    "        return fibo(n-1)+fibo(n-2)\n",
    "print(fibo(n))"
   ]
  },
  {
   "cell_type": "markdown",
   "id": "1f0f2c5d",
   "metadata": {},
   "source": [
    "Answer 62"
   ]
  },
  {
   "cell_type": "code",
   "execution_count": 24,
   "id": "928bee27",
   "metadata": {},
   "outputs": [
    {
     "name": "stdout",
     "output_type": "stream",
     "text": [
      "7\n",
      "0,1,1,2,3,5,8,13\n"
     ]
    }
   ],
   "source": [
    "n=int(input())\n",
    "s=''\n",
    "def fibo(n):\n",
    "    if n==0 or n==1:\n",
    "        return n\n",
    "    else:\n",
    "        return fibo(n-1)+fibo(n-2)\n",
    "for i in range(n+1):    \n",
    "    s=s+str(fibo(i))+','\n",
    "print(s[:-1])"
   ]
  },
  {
   "cell_type": "markdown",
   "id": "59921355",
   "metadata": {},
   "source": [
    "Answer 70"
   ]
  },
  {
   "cell_type": "code",
   "execution_count": 42,
   "id": "e7c766ce",
   "metadata": {},
   "outputs": [
    {
     "name": "stdout",
     "output_type": "stream",
     "text": [
      "6\n"
     ]
    }
   ],
   "source": [
    "import random\n",
    "l=[i for i in range(0,11) if i%2==0]\n",
    "print(random.choice(l))"
   ]
  },
  {
   "cell_type": "markdown",
   "id": "ee05efbd",
   "metadata": {},
   "source": [
    "Answer 71"
   ]
  },
  {
   "cell_type": "code",
   "execution_count": 43,
   "id": "b6c4fdbc",
   "metadata": {},
   "outputs": [
    {
     "name": "stdout",
     "output_type": "stream",
     "text": [
      "140\n"
     ]
    }
   ],
   "source": [
    "l=[i for i in range(10,151) if i%5==0 and i%7==0]\n",
    "print(random.choice(l))"
   ]
  },
  {
   "cell_type": "markdown",
   "id": "0e495418",
   "metadata": {},
   "source": [
    "Answer 72"
   ]
  },
  {
   "cell_type": "code",
   "execution_count": 44,
   "id": "6f0087fa",
   "metadata": {},
   "outputs": [
    {
     "name": "stdout",
     "output_type": "stream",
     "text": [
      "[174, 170, 175, 179, 136]\n"
     ]
    }
   ],
   "source": [
    "l=[]\n",
    "for i in range(5):\n",
    "    l.append(random.randint(100,200))\n",
    "print(l)"
   ]
  },
  {
   "cell_type": "markdown",
   "id": "4677c5a5",
   "metadata": {},
   "source": [
    "Answer 73"
   ]
  },
  {
   "cell_type": "code",
   "execution_count": 45,
   "id": "c9f57fc0",
   "metadata": {},
   "outputs": [
    {
     "name": "stdout",
     "output_type": "stream",
     "text": [
      "[176, 162, 160, 156, 138]\n"
     ]
    }
   ],
   "source": [
    "l=[i for i in range(100,201) if i%2==0]\n",
    "ans=random.sample(l,5)\n",
    "print(ans)"
   ]
  },
  {
   "cell_type": "markdown",
   "id": "dcc066f4",
   "metadata": {},
   "source": [
    "Answer 74"
   ]
  },
  {
   "cell_type": "code",
   "execution_count": 46,
   "id": "c72ddbef",
   "metadata": {},
   "outputs": [
    {
     "name": "stdout",
     "output_type": "stream",
     "text": [
      "[210, 945, 595, 420, 735]\n"
     ]
    }
   ],
   "source": [
    "l=[i for i in range(1,1001) if i%5==0 and i%7==0]\n",
    "ans=random.sample(l,5)\n",
    "print(ans)"
   ]
  },
  {
   "cell_type": "markdown",
   "id": "8e4ca7b3",
   "metadata": {},
   "source": [
    "Answer 75"
   ]
  },
  {
   "cell_type": "code",
   "execution_count": 47,
   "id": "88509eb4",
   "metadata": {},
   "outputs": [
    {
     "name": "stdout",
     "output_type": "stream",
     "text": [
      "9\n"
     ]
    }
   ],
   "source": [
    "print(random.randrange(7,16))"
   ]
  },
  {
   "cell_type": "markdown",
   "id": "4c11a77a",
   "metadata": {},
   "source": [
    "Answer 76"
   ]
  },
  {
   "cell_type": "code",
   "execution_count": 90,
   "id": "e7398cf1",
   "metadata": {},
   "outputs": [
    {
     "name": "stdout",
     "output_type": "stream",
     "text": [
      "5\n",
      "23\n",
      "48\n"
     ]
    }
   ],
   "source": [
    "import zlib\n",
    "s1 = b'hello world!hello world!hello world!hello world!'\n",
    "print(len(s))\n",
    "s2 = zlib.compress(s1)\n",
    "print(len(s2))\n",
    "s3=zlib.decompress(s2)\n",
    "print(len(s3))"
   ]
  },
  {
   "cell_type": "markdown",
   "id": "f473dd92",
   "metadata": {},
   "source": [
    "Answer 77"
   ]
  },
  {
   "cell_type": "code",
   "execution_count": 93,
   "id": "ef1aae20",
   "metadata": {},
   "outputs": [
    {
     "name": "stdout",
     "output_type": "stream",
     "text": [
      "3.099999958067201e-06\n"
     ]
    }
   ],
   "source": [
    "import timeit\n",
    "work='1+1'\n",
    "print(timeit.timeit(stmt=work,number=100))"
   ]
  },
  {
   "cell_type": "markdown",
   "id": "b9c16bfa",
   "metadata": {},
   "source": [
    "Answer 78"
   ]
  },
  {
   "cell_type": "code",
   "execution_count": 95,
   "id": "f83b86fd",
   "metadata": {},
   "outputs": [
    {
     "name": "stdout",
     "output_type": "stream",
     "text": [
      "[8, 7, 3, 6]\n"
     ]
    }
   ],
   "source": [
    "l=[3,6,7,8]\n",
    "random.shuffle(l)\n",
    "print(l)"
   ]
  },
  {
   "cell_type": "markdown",
   "id": "95e9c99d",
   "metadata": {},
   "source": [
    "Answer 79"
   ]
  },
  {
   "cell_type": "code",
   "execution_count": null,
   "id": "82b08084",
   "metadata": {},
   "outputs": [],
   "source": []
  },
  {
   "cell_type": "code",
   "execution_count": null,
   "id": "0639b7a7",
   "metadata": {},
   "outputs": [],
   "source": [
    "Answer 80"
   ]
  },
  {
   "cell_type": "code",
   "execution_count": 99,
   "id": "56aa6bcf",
   "metadata": {},
   "outputs": [
    {
     "name": "stdout",
     "output_type": "stream",
     "text": [
      "[5, 77, 45]\n"
     ]
    }
   ],
   "source": [
    "l=[5,6,77,45,22,12,24]\n",
    "h=[]\n",
    "for i in l:\n",
    "    if i%2==0:\n",
    "        h.append(i)\n",
    "for i in h:\n",
    "    l.remove(i)\n",
    "print(l)\n",
    "    "
   ]
  },
  {
   "cell_type": "markdown",
   "id": "bad85cad",
   "metadata": {},
   "source": [
    "Answer 90"
   ]
  },
  {
   "cell_type": "code",
   "execution_count": 35,
   "id": "b249ede5",
   "metadata": {},
   "outputs": [
    {
     "name": "stdout",
     "output_type": "stream",
     "text": [
      "abcdefgabc\n",
      "a,2\n",
      "b,2\n",
      "c,2\n",
      "d,1\n",
      "e,1\n",
      "f,1\n",
      "g,1\n"
     ]
    }
   ],
   "source": [
    "s=input()\n",
    "d={}\n",
    "for i in s:\n",
    "    if i not in d:\n",
    "        d[i]=0\n",
    "    d[i]+=1\n",
    "for i,j in d.items():\n",
    "    print(i+','+str(j))"
   ]
  },
  {
   "cell_type": "markdown",
   "id": "72214409",
   "metadata": {},
   "source": [
    "Answer 91"
   ]
  },
  {
   "cell_type": "code",
   "execution_count": 36,
   "id": "fdcb497d",
   "metadata": {},
   "outputs": [
    {
     "name": "stdout",
     "output_type": "stream",
     "text": [
      "rise to vote sir\n",
      "ris etov ot esir"
     ]
    }
   ],
   "source": [
    "s=input()\n",
    "for i in s[::-1]:\n",
    "    print(i,end='')"
   ]
  },
  {
   "cell_type": "markdown",
   "id": "79817946",
   "metadata": {},
   "source": [
    "Answe 92"
   ]
  },
  {
   "cell_type": "code",
   "execution_count": 41,
   "id": "bb368c30",
   "metadata": {},
   "outputs": [
    {
     "name": "stdout",
     "output_type": "stream",
     "text": [
      "H1e2l3l4o5w6o7r8l9d\n",
      "Helloworld\n"
     ]
    }
   ],
   "source": [
    "s=input()\n",
    "print(s[::2])"
   ]
  },
  {
   "cell_type": "markdown",
   "id": "9163ef76",
   "metadata": {},
   "source": [
    "Answer 93"
   ]
  },
  {
   "cell_type": "code",
   "execution_count": 39,
   "id": "65db3751",
   "metadata": {},
   "outputs": [
    {
     "name": "stdout",
     "output_type": "stream",
     "text": [
      "[[1, 2, 3], [1, 3, 2], [2, 1, 3], [2, 3, 1], [3, 1, 2], [3, 2, 1]]\n"
     ]
    }
   ],
   "source": [
    "nums=[1,2,3]\n",
    "def permute(nums):\n",
    "    res=[]\n",
    "    used=[False for i in l]\n",
    "    def per(used,nums,ans):\n",
    "        if len(ans)==len(nums):\n",
    "            res.append(ans[:])\n",
    "            return\n",
    "        for i in range(len(nums)):\n",
    "            if used[i]==False:\n",
    "                used[i]=True\n",
    "                ans.append(nums[i])\n",
    "                per(used,nums,ans)\n",
    "                used[i]=False\n",
    "                ans.pop()\n",
    "    per(used,nums,[])\n",
    "    return res\n",
    "print(permute(nums))    "
   ]
  },
  {
   "cell_type": "markdown",
   "id": "86bc0042",
   "metadata": {},
   "source": [
    "Answer 94"
   ]
  },
  {
   "cell_type": "code",
   "execution_count": 42,
   "id": "057dff34",
   "metadata": {},
   "outputs": [
    {
     "name": "stdout",
     "output_type": "stream",
     "text": [
      "no of chickens 23\n",
      "no of rabbits 12\n"
     ]
    }
   ],
   "source": [
    "#c+r=35\n",
    "#2c+4r=94\n",
    "r=(94-2*35)//2\n",
    "c=35-r\n",
    "print('no of chickens',c)\n",
    "print('no of rabbits',r)"
   ]
  },
  {
   "cell_type": "markdown",
   "id": "a9d4cac3",
   "metadata": {},
   "source": [
    "Answer 95"
   ]
  },
  {
   "cell_type": "code",
   "execution_count": 47,
   "id": "dad1f30f",
   "metadata": {},
   "outputs": [
    {
     "name": "stdout",
     "output_type": "stream",
     "text": [
      "5 2 3 6 6 5\n",
      "5\n"
     ]
    }
   ],
   "source": [
    "l=list(map(int,input().split()))\n",
    "s=set(l)\n",
    "l=list(s)\n",
    "l.sort(reverse=True)\n",
    "print(l[1])"
   ]
  },
  {
   "cell_type": "markdown",
   "id": "b35f7f42",
   "metadata": {},
   "source": [
    "Answer 96"
   ]
  },
  {
   "cell_type": "code",
   "execution_count": 50,
   "id": "d7d6200a",
   "metadata": {},
   "outputs": [
    {
     "name": "stdout",
     "output_type": "stream",
     "text": [
      "ABCDEFGHIJKLIMNOQRSTUVWXYZ 4\n",
      "ABCD EFGH IJKL IMNO QRST UVWX YZ\n"
     ]
    }
   ],
   "source": [
    "import textwrap\n",
    "s,w=input().split()\n",
    "l=textwrap.wrap(s,width=int(w))\n",
    "print(' '.join(l))"
   ]
  }
 ],
 "metadata": {
  "kernelspec": {
   "display_name": "Python 3 (ipykernel)",
   "language": "python",
   "name": "python3"
  },
  "language_info": {
   "codemirror_mode": {
    "name": "ipython",
    "version": 3
   },
   "file_extension": ".py",
   "mimetype": "text/x-python",
   "name": "python",
   "nbconvert_exporter": "python",
   "pygments_lexer": "ipython3",
   "version": "3.8.9"
  }
 },
 "nbformat": 4,
 "nbformat_minor": 5
}
